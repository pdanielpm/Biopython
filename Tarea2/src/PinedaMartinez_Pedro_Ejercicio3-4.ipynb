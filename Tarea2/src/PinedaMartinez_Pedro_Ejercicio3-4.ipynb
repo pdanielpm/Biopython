{
 "cells": [
  {
   "cell_type": "code",
   "execution_count": 272,
   "id": "194a50d8",
   "metadata": {},
   "outputs": [],
   "source": [
    "class gene():\n",
    "    #Atributos de la clase:\n",
    "    secuencia = \"\"\n",
    "    tipo = \"\"\n",
    "    ubicacion = \"\" \n",
    "\n",
    "    # Métodos de la clase:\n",
    "    def __init__(self, secuencia, tipo, ubicacion):\n",
    "        self.secuencia = secuencia\n",
    "        self.tipo = tipo\n",
    "        self.ubicacion = ubicacion\n",
    "    def nivelexpr(self, nivel):\n",
    "        # Actualiza y devuelve True/False según si está expresado\n",
    "        self.nivel_expresion = nivel\n",
    "        if nivel <= 0:\n",
    "            print(\"El gen de tipo\", self.tipo, \"ubicado en\", self.ubicacion, \"no está siendo expresado.\")\n",
    "            return False\n",
    "        elif nivel>= 0:\n",
    "            print(\"El gen de tipo\", self.tipo, \"ubicado en\", self.ubicacion, \"está siendo expresado.\")\n",
    "            return True\n",
    "    def longitud_secuencia(self):\n",
    "        long=len(self.secuencia)\n",
    "        return long "
   ]
  },
  {
   "cell_type": "code",
   "execution_count": 273,
   "id": "f5a359a7",
   "metadata": {},
   "outputs": [],
   "source": [
    "class ncRNA(gene):\n",
    "    # Métodos de la clase:\n",
    "    def gc_content(self):\n",
    "        gs = self.secuencia.count('G')\n",
    "        cs = self.secuencia.count('C')\n",
    "        gc = (gs + cs) / len(self.secuencia) * 100\n",
    "        return print(f\"El contenido de GC es: {gc:.2f}%\")\n",
    "    def __init__(self, secuencia,ubicacion):\n",
    "        super().__init__(secuencia,\"NO CODIFICANTE\",ubicacion)"
   ]
  },
  {
   "cell_type": "code",
   "execution_count": 274,
   "id": "eea3d075",
   "metadata": {},
   "outputs": [],
   "source": [
    "class tRNA(gene):\n",
    "    # Métodos de la clase:\n",
    "    def __init__(self, secuencia,ubicacion):\n",
    "        super().__init__(secuencia,\"tRNA\",ubicacion)\n",
    "    def cargado(self):\n",
    "        if self.nivelexpr == True:\n",
    "            print(\"El tRNA está cargado con un aminoácido.\")\n",
    "        else:\n",
    "           print(\"El tRNA no está cargado.\")"
   ]
  },
  {
   "cell_type": "code",
   "execution_count": 275,
   "id": "2f55f2f6",
   "metadata": {},
   "outputs": [],
   "source": [
    "class proteina(tRNA):\n",
    "    # Atributos de la clase:\n",
    "    def __init__(self, secuencia,ubicacion):\n",
    "        super().__init__(secuencia,ubicacion)\n",
    "    def longitud_secuencia(self):\n",
    "        long=len(self.secuencia)\n",
    "        aa = long/3\n",
    "        return long,aa\n",
    "         \n",
    "    def expresado(self):\n",
    "        if self.cargado == True:\n",
    "            print(\"La proteína está siendo traducida.\")\n",
    "        else:\n",
    "            print(\"La proteína no está siendo traducida.\")"
   ]
  },
  {
   "cell_type": "code",
   "execution_count": 276,
   "id": "93447011",
   "metadata": {},
   "outputs": [
    {
     "name": "stdout",
     "output_type": "stream",
     "text": [
      "El gen de tipo NO CODIFICANTE ubicado en Cromosoma 1: 100-120 está siendo expresado.\n",
      "El contenido de GC es: 50.00%\n"
     ]
    },
    {
     "data": {
      "text/plain": [
       "12"
      ]
     },
     "execution_count": 276,
     "metadata": {},
     "output_type": "execute_result"
    }
   ],
   "source": [
    "ncRNA1 = ncRNA(\"AUGCUAGCUAGC\",\"Cromosoma 1: 100-120\")\n",
    "ncRNA1.nivelexpr(5)\n",
    "ncRNA1.gc_content()\n",
    "ncRNA1.longitud_secuencia()"
   ]
  },
  {
   "cell_type": "code",
   "execution_count": 277,
   "id": "be8171fd",
   "metadata": {},
   "outputs": [
    {
     "name": "stdout",
     "output_type": "stream",
     "text": [
      "El gen de tipo tRNA ubicado en Cromosoma 2: 200-220 está siendo expresado.\n",
      "El tRNA no está cargado.\n"
     ]
    },
    {
     "data": {
      "text/plain": [
       "12"
      ]
     },
     "execution_count": 277,
     "metadata": {},
     "output_type": "execute_result"
    }
   ],
   "source": [
    "tRNA1 = tRNA(\"AUGCUAGCUAGC\",\"Cromosoma 2: 200-220\")\n",
    "tRNA1.longitud_secuencia()\n",
    "tRNA1.nivelexpr(2)\n",
    "tRNA1.cargado()\n",
    "tRNA1.longitud_secuencia()"
   ]
  },
  {
   "cell_type": "code",
   "execution_count": 278,
   "id": "9cc05746",
   "metadata": {},
   "outputs": [
    {
     "name": "stdout",
     "output_type": "stream",
     "text": [
      "El gen de tipo tRNA ubicado en Cromosoma 3: 300-320 está siendo expresado.\n",
      "El tRNA no está cargado.\n",
      "La proteína no está siendo traducida.\n"
     ]
    },
    {
     "data": {
      "text/plain": [
       "(12, 4.0)"
      ]
     },
     "execution_count": 278,
     "metadata": {},
     "output_type": "execute_result"
    }
   ],
   "source": [
    "proteina1 = proteina(\"AUGCUAGCUAGC\",\"Cromosoma 3: 300-320\")\n",
    "proteina1.nivelexpr(4)\n",
    "proteina1.cargado()\n",
    "proteina1.expresado()\n",
    "proteina1.longitud_secuencia()"
   ]
  }
 ],
 "metadata": {
  "kernelspec": {
   "display_name": "Python 3",
   "language": "python",
   "name": "python3"
  },
  "language_info": {
   "codemirror_mode": {
    "name": "ipython",
    "version": 3
   },
   "file_extension": ".py",
   "mimetype": "text/x-python",
   "name": "python",
   "nbconvert_exporter": "python",
   "pygments_lexer": "ipython3",
   "version": "3.13.3"
  }
 },
 "nbformat": 4,
 "nbformat_minor": 5
}
