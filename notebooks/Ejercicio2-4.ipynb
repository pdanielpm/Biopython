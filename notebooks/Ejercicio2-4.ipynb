{
 "cells": [
  {
   "cell_type": "code",
   "execution_count": 1,
   "id": "02f91b06",
   "metadata": {},
   "outputs": [],
   "source": [
    "class gene():\n",
    "    #Atributos de la clase:\n",
    "    secuencia = \"\"\n",
    "    tipo = \"\"\n",
    "    ubicacion = \"\" \n",
    "\n",
    "    # Métodos de la clase:\n",
    "    def __init__(self, secuencia, tipo, ubicacion):\n",
    "        self.secuencia = secuencia\n",
    "        self.tipo = tipo\n",
    "        self.ubicacion = ubicacion\n",
    "    def nivelexpr(self, nivel):\n",
    "        if nivel <= 0:\n",
    "            print(\"El gen de tipo\", self.tipo, \"ubicado en\", self.ubicacion, \" no está siendo expresado.\")\n",
    "        else:\n",
    "            print(\"El gen de tipo\", self.tipo, \"ubicado en\", self.ubicacion, \" está siendo expresado.\")\n",
    "    def longitud_secuencia(self):\n",
    "        return len(self.secuencia)"
   ]
  },
  {
   "cell_type": "code",
   "execution_count": 2,
   "id": "9763f390",
   "metadata": {},
   "outputs": [
    {
     "name": "stdout",
     "output_type": "stream",
     "text": [
      "El gen de tipo NO CODIFICANTE ubicado en CROMOSOMA 5  no está siendo expresado.\n",
      "La longitud de la secuencia del gen es: 16\n"
     ]
    }
   ],
   "source": [
    "gene1= gene(\"AAACCCGGTTTATATA\", \"NO CODIFICANTE\", \"CROMOSOMA 5\")\n",
    "gene1.nivelexpr(0)\n",
    "print(\"La longitud de la secuencia del gen es:\", gene1.longitud_secuencia())"
   ]
  },
  {
   "cell_type": "code",
   "execution_count": null,
   "id": "8899bdb4",
   "metadata": {},
   "outputs": [],
   "source": [
    "class tRNA (gene):\n",
    "    #Atributos de la clase:\n",
    "    tipo = \"tRNA\"\n",
    "    codon\n",
    "    def __init__(self, secuencia, tipo, ubicacion):\n",
    "        super().__init__(secuencia, tipo, ubicacion)\n",
    "        "
   ]
  }
 ],
 "metadata": {
  "kernelspec": {
   "display_name": "Python 3",
   "language": "python",
   "name": "python3"
  },
  "language_info": {
   "codemirror_mode": {
    "name": "ipython",
    "version": 3
   },
   "file_extension": ".py",
   "mimetype": "text/x-python",
   "name": "python",
   "nbconvert_exporter": "python",
   "pygments_lexer": "ipython3",
   "version": "3.13.3"
  }
 },
 "nbformat": 4,
 "nbformat_minor": 5
}
