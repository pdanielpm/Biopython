{
 "cells": [
  {
   "cell_type": "code",
   "execution_count": 8,
   "id": "f8591882",
   "metadata": {},
   "outputs": [],
   "source": [
    "from random import choice,seed"
   ]
  },
  {
   "cell_type": "code",
   "execution_count": 9,
   "id": "d66a094d",
   "metadata": {},
   "outputs": [],
   "source": [
    "class mamifero(): \n",
    "    # Atributos de clase\n",
    "    vertebrado = True\n",
    "    amamanta = True\n",
    "\n",
    "    def __init__(self, alimentacion, altura, peso, progenie=0):\n",
    "        # Atributos de instancia\n",
    "        self.alimentacion = alimentacion   # carnívoro, omnívoro, etc.\n",
    "        self.altura = altura #cm\n",
    "        self.peso = peso #kg\n",
    "        self.progenie = progenie \n",
    "\n",
    "    # Cuántos puede tener y cuántos van a sobrevivir    \n",
    "    def reproducirse(self, max_progenie):\n",
    "        self.progenie +=  choice(range(max_progenie))\n",
    "    \n",
    "    def crecer(self, crecimiento):\n",
    "        self.altura += crecimiento\n",
    "        self.peso += crecimiento * 0.4"
   ]
  },
  {
   "cell_type": "code",
   "execution_count": 10,
   "id": "1b12cc22",
   "metadata": {},
   "outputs": [],
   "source": [
    "class monotrema(mamifero):\n",
    "    espolon = True\n",
    "    \n",
    "    def poner_huevos(self,max_huevos):\n",
    "        huevos= 0\n",
    "        for n in range(max_huevos):\n",
    "            if choice ([True, False]):\n",
    "                huevos += 1\n",
    "        if huevos > 0:\n",
    "            self.reproducirse(huevos)"
   ]
  },
  {
   "cell_type": "code",
   "execution_count": 11,
   "id": "de70a9d0",
   "metadata": {},
   "outputs": [
    {
     "name": "stdout",
     "output_type": "stream",
     "text": [
      "El tipo de alimentacion de echidna es: carnivoro , altura: 56 cm, peso: 8.4\n"
     ]
    }
   ],
   "source": [
    "echidna = monotrema(\"carnivoro\",50,6)\n",
    "echidna.crecer(6)\n",
    "print(\"El tipo de alimentacion de echidna es:\", echidna.alimentacion , \", altura:\", echidna.altura, \"cm, peso:\", echidna.peso)"
   ]
  },
  {
   "cell_type": "code",
   "execution_count": 12,
   "id": "24ecae99",
   "metadata": {},
   "outputs": [],
   "source": [
    "class placentario(mamifero):\n",
    "    def __init__(self, alimentacion, peso, altura, acuatico, progenie=0):\n",
    "        super().__init__(alimentacion, altura, peso, progenie)\n",
    "        self.acuatico=acuatico\n",
    "    def crecer(self,crecimiento):\n",
    "        self.altura += crecimiento\n",
    "        self.peso += crecimiento * 2"
   ]
  },
  {
   "cell_type": "code",
   "execution_count": 13,
   "id": "9755513f",
   "metadata": {},
   "outputs": [
    {
     "data": {
      "text/plain": [
       "{'alimentacion': 'carnivoro',\n",
       " 'altura': 41000,\n",
       " 'peso': 200,\n",
       " 'progenie': 0,\n",
       " 'acuatico': True}"
      ]
     },
     "execution_count": 13,
     "metadata": {},
     "output_type": "execute_result"
    }
   ],
   "source": [
    "cachalote = placentario(\"carnivoro\", 200,41*10**3, True)\n",
    "cachalote.__dict__"
   ]
  },
  {
   "cell_type": "code",
   "execution_count": 14,
   "id": "9d0ac726",
   "metadata": {},
   "outputs": [],
   "source": [
    "class marsupial(mamifero):\n",
    "    def crecer(self,crecimiento):\n",
    "        self.altura += crecimiento\n",
    "        self.peso += crecimiento * 2"
   ]
  },
  {
   "cell_type": "code",
   "execution_count": 15,
   "id": "538de199",
   "metadata": {},
   "outputs": [
    {
     "data": {
      "text/plain": [
       "{'alimentacion': 'herbivoro', 'altura': 80, 'peso': 1.5, 'progenie': False}"
      ]
     },
     "execution_count": 15,
     "metadata": {},
     "output_type": "execute_result"
    }
   ],
   "source": [
    "kanguro = marsupial(\"herbivoro\", 80, 1.5, False)\n",
    "kanguro.__dict__"
   ]
  },
  {
   "cell_type": "code",
   "execution_count": 16,
   "id": "f65f73af",
   "metadata": {},
   "outputs": [
    {
     "data": {
      "text/plain": [
       "(220, 21.5)"
      ]
     },
     "execution_count": 16,
     "metadata": {},
     "output_type": "execute_result"
    }
   ],
   "source": [
    "for mamiferito in [kanguro,cachalote]:\n",
    "    mamiferito.crecer(10)\n",
    "cachalote.peso, kanguro.peso"
   ]
  }
 ],
 "metadata": {
  "kernelspec": {
   "display_name": "Python 3",
   "language": "python",
   "name": "python3"
  },
  "language_info": {
   "codemirror_mode": {
    "name": "ipython",
    "version": 3
   },
   "file_extension": ".py",
   "mimetype": "text/x-python",
   "name": "python",
   "nbconvert_exporter": "python",
   "pygments_lexer": "ipython3",
   "version": "3.13.3"
  }
 },
 "nbformat": 4,
 "nbformat_minor": 5
}
